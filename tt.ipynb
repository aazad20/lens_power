{
 "cells": [
  {
   "cell_type": "code",
   "execution_count": 5,
   "metadata": {},
   "outputs": [],
   "source": [
    "import pandas as pd\n",
    "data = pd.read_csv('test.csv')"
   ]
  },
  {
   "cell_type": "code",
   "execution_count": 6,
   "metadata": {},
   "outputs": [],
   "source": [
    "import numpy as np\n",
    "data_r = data[['headache','near_reading_problems','far_reading_problems','watering_eyes','dizziness','eye_strain','age','gender','color_vision_r','spokes_r','long_range_vision_r','short_range_vision_r']]\n",
    "data_l = data[['headache','near_reading_problems','far_reading_problems','watering_eyes','dizziness','eye_strain','age','gender','color_vision_l','spokes_l','long_range_vision_l','short_range_vision_l']]\n",
    "    \n",
    "columns_r = ['color_vision_r_b','color_vision_r_g','color_vision_r_r','headache','near_reading_problems','far_reading_problems','watering_eyes','dizziness','eye_strain','age','gender','spokes_r','long_range_vision_r','short_range_vision_r']\n",
    "columns_l = ['color_vision_l_b','color_vision_l_g','color_vision_l_r','headache','near_reading_problems','far_reading_problems','watering_eyes','dizziness','eye_strain','age','gender','spokes_l','long_range_vision_l','short_range_vision_l']\n",
    "    # COLOR VISION \n",
    "    # RIGHT\n",
    "X_r = data_r.iloc[:, :].values\n",
    "from sklearn.compose import ColumnTransformer\n",
    "from sklearn.preprocessing import OneHotEncoder\n",
    "ct = ColumnTransformer(transformers=[('encoder', OneHotEncoder(), [8])], remainder='passthrough')\n",
    "X_r = np.array(ct.fit_transform(X_r))\n",
    "RLD = pd.DataFrame(data = X_r,columns = columns_r)\n",
    "    \n",
    "    #LEFT\n",
    "X_l = data_l.iloc[:, :].values\n",
    "from sklearn.compose import ColumnTransformer\n",
    "from sklearn.preprocessing import OneHotEncoder\n",
    "ct = ColumnTransformer(transformers=[('encoder', OneHotEncoder(), [8])], remainder='passthrough')\n",
    "X_l = np.array(ct.fit_transform(X_l))\n",
    "FLD = pd.DataFrame(data = X_l,columns = columns_l)"
   ]
  },
  {
   "cell_type": "code",
   "execution_count": null,
   "metadata": {},
   "outputs": [],
   "source": []
  }
 ],
 "metadata": {
  "kernelspec": {
   "display_name": "Python 3",
   "language": "python",
   "name": "python3"
  },
  "language_info": {
   "codemirror_mode": {
    "name": "ipython",
    "version": 3
   },
   "file_extension": ".py",
   "mimetype": "text/x-python",
   "name": "python",
   "nbconvert_exporter": "python",
   "pygments_lexer": "ipython3",
   "version": "3.6.8"
  }
 },
 "nbformat": 4,
 "nbformat_minor": 4
}
